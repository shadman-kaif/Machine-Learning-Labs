{
  "nbformat": 4,
  "nbformat_minor": 0,
  "metadata": {
    "colab": {
      "provenance": []
    },
    "kernelspec": {
      "name": "python3",
      "display_name": "Python 3"
    },
    "accelerator": "GPU",
    "gpuClass": "standard"
  },
  "cells": [
    {
      "cell_type": "markdown",
      "metadata": {
        "id": "oz9MhPEUMrkC"
      },
      "source": [
        "**Assignment**: Designing and Tuning a Convolutional Neural Network (CNN)\n",
        "\n",
        "**Assignment Description**: There are four parts to this assignment\n",
        "\n",
        "1.   Building a CNN\n",
        "2.   Training and Tuning a CNN\n",
        "3.   Trying Out a New Dataset\n",
        "4.   Open-Ended Exploration\n",
        "\n",
        "You will be largely guided through the first two parts. The third and fourth part are discussion based questions. \n",
        "\n",
        "**Before the experiment, make sure that you have GPU enabled. This setting can be found under *Tools --> Settings***"
      ]
    },
    {
      "cell_type": "code",
      "metadata": {
        "id": "jHvVs2GqXxNF",
        "colab": {
          "base_uri": "https://localhost:8080/"
        },
        "outputId": "4833c244-3ff1-461d-fc45-4ee295b1fe8b"
      },
      "source": [
        "#Install Objax\n",
        "!pip --quiet install  objax\n",
        "import objax"
      ],
      "execution_count": 1,
      "outputs": [
        {
          "output_type": "stream",
          "name": "stdout",
          "text": [
            "\u001b[?25l\r\u001b[K     |█████▊                          | 10 kB 23.7 MB/s eta 0:00:01\r\u001b[K     |███████████▍                    | 20 kB 28.3 MB/s eta 0:00:01\r\u001b[K     |█████████████████▏              | 30 kB 33.9 MB/s eta 0:00:01\r\u001b[K     |██████████████████████▉         | 40 kB 26.2 MB/s eta 0:00:01\r\u001b[K     |████████████████████████████▌   | 51 kB 29.4 MB/s eta 0:00:01\r\u001b[K     |████████████████████████████████| 57 kB 4.2 MB/s \n",
            "\u001b[?25h  Building wheel for objax (setup.py) ... \u001b[?25l\u001b[?25hdone\n"
          ]
        }
      ]
    },
    {
      "cell_type": "code",
      "metadata": {
        "id": "xqQf8f2RBDcx"
      },
      "source": [
        "import tensorflow as tf \n",
        "import tensorflow_datasets as tfds\n",
        "import numpy as np\n",
        "import jax.numpy as jn\n",
        "import random \n",
        "import matplotlib.pyplot as plt"
      ],
      "execution_count": 2,
      "outputs": []
    },
    {
      "cell_type": "markdown",
      "metadata": {
        "id": "w_7vcWRFO39r"
      },
      "source": [
        "##**Part 1. Building a CNN** \n",
        "\n",
        "Before we build our CNN model, let's first import a dataset. For our experiment, we load the CIFAR10 dataset from Tensorflow's dataset repository. The CIFAR10 dataset consists of 60,000 32x32 colour images in 10 classes, with 6000 images per class. The 10 different classes represent airplanes, cars, birds, cats, deer, dogs, frogs, horses, ships, and trucks.\n",
        "\n",
        "After loading the dataset, we split the dataset into training, validation and test set. The dataset is originally stored as 50,000 training examples and 10,000 test examples. Instead, we will combine them together and make our own split.\n",
        "\n",
        "Do not change split ratio for now."
      ]
    },
    {
      "cell_type": "code",
      "metadata": {
        "id": "e5VQDzs1XodT",
        "colab": {
          "base_uri": "https://localhost:8080/"
        },
        "outputId": "52db34a1-bd62-46d8-b127-3685281b57bb"
      },
      "source": [
        "#.load_data() by default returns a split between training and test set. \n",
        "# We then adjust the training set into a format that can be accepted by our CNN\n",
        "(X_train, Y_train), (X_test, Y_test) = tf.keras.datasets.cifar10.load_data()\n",
        "X_train = X_train.transpose(0, 3, 1, 2) / 255.0\n",
        "Y_train = Y_train.flatten()\n",
        "X_test = X_test.transpose(0, 3, 1, 2) / 255.0\n",
        "Y_test = Y_test.flatten()\n",
        "\n",
        "np.random.seed(1)\n",
        "# To create a validation set, we first concate the original splitted dataset into a single dataset \n",
        "# then randomly shuffle the images and labels in the same way (seed = 1)\n",
        "X_data = np.concatenate([X_train, X_test], axis = 0)\n",
        "Y_data = np.concatenate([Y_train, Y_test], axis = 0)\n",
        "\n",
        "N = np.arange(len(X_data))\n",
        "np.random.shuffle(N)\n",
        "X_data = X_data[N]\n",
        "Y_data = Y_data[N]\n",
        "\n",
        "#Next, we partition the randomly shuffled dataset into training, validation and testset according a ratio\n",
        "train_ratio = 0.80\n",
        "valid_ratio = 0.1\n",
        "n_train = int(len(X_data) * train_ratio)\n",
        "n_valid = int(len(X_data) * valid_ratio)\n",
        "\n",
        "X_train, X_valid, X_test = X_data[:n_train], X_data[n_train:n_train+n_valid], X_data[n_train+n_valid:]\n",
        "Y_train, Y_valid, Y_test = Y_data[:n_train], Y_data[n_train:n_train+n_valid], Y_data[n_train+n_valid:]"
      ],
      "execution_count": null,
      "outputs": [
        {
          "output_type": "stream",
          "name": "stdout",
          "text": [
            "Downloading data from https://www.cs.toronto.edu/~kriz/cifar-10-python.tar.gz\n",
            "170498071/170498071 [==============================] - 15s 0us/step\n"
          ]
        }
      ]
    },
    {
      "cell_type": "markdown",
      "source": [
        "The CIFAR-10 dataset contains 60000 images. The ratio of the data split is 80% training (0.8 x 60000 = 48000 images), 10% validation (0.1 x 60000 = 6000 images) and 10% test (0.1 x 60000 = 6000 images). There are 48000 training images and if in each step of gradient descent, we randomly select 32 examples, and no example appears in more than one batch, it will take 48000/32 = 1500 iterations. As going through the dataset once is one epoch, we need 30 epochs * 1500 iterations = 45000 iterations. Therefore, we need 45000 iterations."
      ],
      "metadata": {
        "id": "7bSTexPABD9I"
      }
    },
    {
      "cell_type": "markdown",
      "metadata": {
        "id": "szDmexFGT7Qs"
      },
      "source": [
        "\n",
        "Next we will construct a **Base Model**, which in our case is a small CNN."
      ]
    },
    {
      "cell_type": "code",
      "metadata": {
        "id": "_Eeh6jvfBV4p"
      },
      "source": [
        "class ConvNet(objax.Module):\n",
        "  def __init__(self, number_of_channels = 3, number_of_classes = 10):\n",
        "    self.conv_1 = objax.nn.Sequential([objax.nn.Conv2D(number_of_channels, 16, 2), objax.functional.relu])\n",
        "    self.conv_2 = objax.nn.Sequential([objax.nn.Conv2D(16, 32, 2), objax.functional.relu])\n",
        "    self.linear = objax.nn.Linear(32, number_of_classes)\n",
        "\n",
        "  def __call__(self, x):\n",
        "    x = objax.functional.max_pool_2d(self.conv_1(x), 2, 2)\n",
        "    x = self.conv_2(x)\n",
        "  \n",
        "    x = x.mean((2,3)) #<--- global average pooling \n",
        "    x = self.linear(x)\n",
        "    return x\n",
        "\n",
        "#The following line creates the CNN\n",
        "model = ConvNet()\n",
        "#You can examine the architecture of our CNN by calling model.vars()"
      ],
      "execution_count": null,
      "outputs": []
    },
    {
      "cell_type": "markdown",
      "metadata": {
        "id": "Crz2dQZBds89"
      },
      "source": [
        "Before we train our conv net, let's try to better understand concepts of convolution filter and linear layer. In the following, you will take the first very image of the training set, create a simple convolution routine, and show that our own routine matches what Objax returns. \n",
        "\n"
      ]
    },
    {
      "cell_type": "code",
      "metadata": {
        "id": "Epa7ETf6XddH",
        "colab": {
          "base_uri": "https://localhost:8080/",
          "height": 284
        },
        "outputId": "9b38cec8-5030-487b-f7c9-779e92bf248d"
      },
      "source": [
        "#Let's plot the first image in the training set.\n",
        "plt.imshow(X_train[0].transpose(1,2,0))"
      ],
      "execution_count": null,
      "outputs": [
        {
          "output_type": "execute_result",
          "data": {
            "text/plain": [
              "<matplotlib.image.AxesImage at 0x7f51a0476610>"
            ]
          },
          "metadata": {},
          "execution_count": 9
        },
        {
          "output_type": "display_data",
          "data": {
            "text/plain": [
              "<Figure size 432x288 with 1 Axes>"
            ],
            "image/png": "[encoded data removed]"
          },
          "metadata": {
            "needs_background": "light"
          }
        }
      ]
    },
    {
      "cell_type": "markdown",
      "metadata": {
        "id": "PQjS06vgXZ7r"
      },
      "source": [
        "Next, we will pass our image through Objax's convolution routine. Carefully examine the following code and try to understand the dimension of the filter weights and the output. "
      ]
    },
    {
      "cell_type": "code",
      "metadata": {
        "id": "vFBbJHBpXXUc",
        "colab": {
          "base_uri": "https://localhost:8080/"
        },
        "outputId": "dad2dc9b-f6ba-44fc-ecec-361ad47adfc1"
      },
      "source": [
        "# We append the first image with a batch size of 1 so it can be fed into a convolution layer\n",
        "my_image = np.expand_dims(X_train[0], 0)\n",
        "\n",
        "#Consider a very simple CNN filter with stride = 1 and no padding ('VALID').\n",
        "Conv2d = objax.nn.Conv2D(nin = 3, nout = 2, k = 1, strides = 1, padding = 'VALID', use_bias = False)\n",
        "\n",
        "filter_weights = Conv2d.w.value #This is the initial weight of the filter, which we gradually update when training, we ignore bias for now\n",
        "\n",
        "print(\"Filter weights:\", filter_weights)\n",
        "print(\"Conv output:\", Conv2d(my_image))\n",
        "print(\"Conv output shape:\", np.shape(Conv2d(my_image)))"
      ],
      "execution_count": null,
      "outputs": [
        {
          "output_type": "stream",
          "name": "stdout",
          "text": [
            "Filter weights: [[[[ 0.7304995   0.6803058 ]\n",
            "   [-1.0113425  -0.19040492]\n",
            "   [-0.3848219   0.6740011 ]]]]\n",
            "Conv output: [[[[-0.10271908 -0.10010862 -0.09076816 ... -0.7420423  -0.73912483\n",
            "    -0.7374622 ]\n",
            "   [-0.12882358 -0.11180528 -0.11687267 ... -0.73105437 -0.7434611\n",
            "    -0.7408506 ]\n",
            "   [-0.13143402 -0.11577132 -0.12992492 ... -0.6991137  -0.7174033\n",
            "    -0.7156083 ]\n",
            "   ...\n",
            "   [-0.11485983 -0.10963893 -0.10963893 ... -0.11178758 -0.11439803\n",
            "    -0.12222939]\n",
            "   [-0.09658667 -0.09136578 -0.09136578 ... -0.1274503  -0.12483985\n",
            "    -0.12483985]\n",
            "   [-0.08614487 -0.08353443 -0.08614487 ... -0.16399662 -0.16138618\n",
            "    -0.15355481]]\n",
            "\n",
            "  [[ 0.10279882  0.0982345   0.08189839 ...  0.75253254  0.7320599\n",
            "     0.7214626 ]\n",
            "   [ 0.14844204  0.1263671   0.1275416  ...  0.77934486  0.7626404\n",
            "     0.7580761 ]\n",
            "   [ 0.15300636  0.12562042  0.15036322 ...  0.79253834  0.77845234\n",
            "     0.775332  ]\n",
            "   ...\n",
            "   [ 0.20083015  0.1917015   0.1917015  ...  0.27218536  0.27674967\n",
            "     0.29044265]\n",
            "   [ 0.1688799   0.15975127  0.15975127 ...  0.29957128  0.29500696\n",
            "     0.29500696]\n",
            "   [ 0.15062262  0.14605829  0.15062262 ...  0.36347178  0.35890746\n",
            "     0.3452145 ]]]]\n",
            "Conv output shape: (1, 2, 32, 32)\n"
          ]
        }
      ]
    },
    {
      "cell_type": "code",
      "source": [
        "# Find dimensions of my_image and filter_weights\n",
        "my_image_shape = np.shape(my_image)\n",
        "filter_weights_shape = np.shape(filter_weights)\n",
        "print(my_image_shape)\n",
        "print(filter_weights_shape)"
      ],
      "metadata": {
        "colab": {
          "base_uri": "https://localhost:8080/"
        },
        "id": "YCZRAmEjDgrb",
        "outputId": "93f00f95-4d9c-4345-9cd7-115f0ad13953"
      },
      "execution_count": null,
      "outputs": [
        {
          "output_type": "stream",
          "name": "stdout",
          "text": [
            "(1, 3, 32, 32)\n",
            "(1, 1, 3, 2)\n"
          ]
        }
      ]
    },
    {
      "cell_type": "markdown",
      "metadata": {
        "id": "KsDg8yateSuH"
      },
      "source": [
        "**In the cells below, you will create your own convolution routine that takes in the image and the initial weights used by Objax's own convolution routine (Conv2d.w.value) and show that your convolution routine returns the same value than Objax's.**\n",
        "\n",
        "A simple implementation only requires 4 FOR loops. You may wish to draw inspiration from https://objax.readthedocs.io/en/latest/objax/nn.html?highlight=objax.nn.Conv2D#objax.nn.Conv2D"
      ]
    },
    {
      "cell_type": "code",
      "metadata": {
        "id": "f5B6K9gyXTAx",
        "colab": {
          "base_uri": "https://localhost:8080/"
        },
        "outputId": "cfc5d37e-d50e-4aa9-a1d6-97c0a6488f89"
      },
      "source": [
        "#Solution to the above problem\n",
        "\n",
        "def my_conv_net(my_image, initial_filter_weights):\n",
        "  \"PUT YOUR CODE HERE\"\n",
        "  my_image_shape = np.shape(my_image)\n",
        "  initial_filter_weights_shape = np.shape(initial_filter_weights)\n",
        "  my_conv_output = np.zeros((my_image_shape[0], initial_filter_weights_shape[3], my_image_shape[2], my_image_shape[3])) \n",
        "  n_in, n_out, w, h = my_image_shape[1], initial_filter_weights_shape[3], my_image_shape[2], my_image_shape[3]\n",
        "  for a in range(n_out):\n",
        "    for b in range(w):\n",
        "      for c in range(h):\n",
        "        for d in range(n_in):\n",
        "          my_conv_output[0][a][b][c] += my_image[0][d][b][c] * initial_filter_weights[0][0][d][a]\n",
        "  return my_conv_output\n",
        "\n",
        "print(\"Filter weights:\", filter_weights)\n",
        "my_conv_output = my_conv_net(my_image, filter_weights)\n",
        "print(\"My Conv output:\", my_conv_output)\n",
        "print(\"My Conv output shape:\", np.shape(my_conv_output))"
      ],
      "execution_count": null,
      "outputs": [
        {
          "output_type": "stream",
          "name": "stdout",
          "text": [
            "Filter weights: [[[[ 0.7304995   0.6803058 ]\n",
            "   [-1.0113425  -0.19040492]\n",
            "   [-0.3848219   0.6740011 ]]]]\n",
            "My Conv output: [[[[-0.10271907 -0.10010862 -0.09076816 ... -0.7420423  -0.73912489\n",
            "    -0.73746228]\n",
            "   [-0.12882358 -0.11180527 -0.11687266 ... -0.73105443 -0.74346107\n",
            "    -0.74085063]\n",
            "   [-0.13143402 -0.11577132 -0.12992492 ... -0.69911373 -0.71740329\n",
            "    -0.71560836]\n",
            "   ...\n",
            "   [-0.11485984 -0.10963892 -0.10963892 ... -0.11178758 -0.11439803\n",
            "    -0.12222938]\n",
            "   [-0.09658667 -0.09136577 -0.09136577 ... -0.12745032 -0.12483985\n",
            "    -0.12483985]\n",
            "   [-0.08614486 -0.08353443 -0.08614486 ... -0.16399662 -0.16138616\n",
            "    -0.15355483]]\n",
            "\n",
            "  [[ 0.10279882  0.09823449  0.08189839 ...  0.75253248  0.7320599\n",
            "     0.72146261]\n",
            "   [ 0.14844204  0.12636711  0.1275416  ...  0.7793448   0.76264036\n",
            "     0.75807607]\n",
            "   [ 0.15300636  0.12562042  0.15036322 ...  0.7925384   0.7784524\n",
            "     0.77533197]\n",
            "   ...\n",
            "   [ 0.20083013  0.1917015   0.1917015  ...  0.27218536  0.27674967\n",
            "     0.29044265]\n",
            "   [ 0.1688799   0.15975127  0.15975127 ...  0.29957128  0.29500696\n",
            "     0.29500696]\n",
            "   [ 0.15062262  0.14605829  0.15062262 ...  0.36347181  0.35890746\n",
            "     0.34521449]]]]\n",
            "My Conv output shape: (1, 2, 32, 32)\n"
          ]
        }
      ]
    },
    {
      "cell_type": "code",
      "source": [
        "# This will output true if my own convolution routine returns the same value as Objax's\n",
        "np.allclose(my_conv_output, Conv2d(my_image))"
      ],
      "metadata": {
        "colab": {
          "base_uri": "https://localhost:8080/"
        },
        "id": "k4wT6hPNKQxh",
        "outputId": "6a74f845-a4c3-4a5a-b473-a60fc5b04b5b"
      },
      "execution_count": null,
      "outputs": [
        {
          "output_type": "execute_result",
          "data": {
            "text/plain": [
              "False"
            ]
          },
          "metadata": {},
          "execution_count": 13
        }
      ]
    },
    {
      "cell_type": "markdown",
      "metadata": {
        "id": "d9dbovOwiVDE"
      },
      "source": [
        "The outputs of last convolution layer is typically rearranged so it can be fed into a linear layer. Check that calling .mean((2,3)) rearranges the output of your convolution routine by examining the shape of the output. (Not graded) Think about alternative ways of rearranging the output from the convolution layer. "
      ]
    },
    {
      "cell_type": "code",
      "metadata": {
        "id": "q7hngIUNXIMQ",
        "colab": {
          "base_uri": "https://localhost:8080/"
        },
        "outputId": "b29d39f6-90c6-4d2f-ac23-528900cd7fa4"
      },
      "source": [
        "#Check that .mean((2,3)) rearranges your image\n",
        "my_conv_output.mean((2,3))"
      ],
      "execution_count": null,
      "outputs": [
        {
          "output_type": "execute_result",
          "data": {
            "text/plain": [
              "array([[-0.1400071 ,  0.35388903]])"
            ]
          },
          "metadata": {},
          "execution_count": 14
        }
      ]
    },
    {
      "cell_type": "markdown",
      "metadata": {
        "id": "xTWfvL0mis3D"
      },
      "source": [
        "Take your rearranged output and feed it into a linear layer of appropriate size. Here is an example:\n",
        "\n",
        "```\n",
        "Linear_Layer = objax.nn.Linear(N, 1)\n",
        "Y = Linear_Layer(X)\n",
        "```\n",
        "Next, extract the weights and bias of the linear layer using \n",
        "```\n",
        "Linear_Layer.w.value\n",
        "Linear_Layer.b.value\n",
        "```\n",
        "**Using these values, write one line of code that manually implements the linear layer. Show that it provides the same value as Objax's own linear layer.** \n",
        "\n"
      ]
    },
    {
      "cell_type": "code",
      "metadata": {
        "id": "Uq-TkFpgXDC7",
        "colab": {
          "base_uri": "https://localhost:8080/"
        },
        "outputId": "5e0906a9-b6fe-45b8-aa3e-c55bb1972837"
      },
      "source": [
        "#PUT YOUR CODE HERE\n",
        "# Take my rearranged output and feed it into a linear layer of appropriate size\n",
        "Linear_Layer = objax.nn.Linear(2, 1)\n",
        "Y1 = Linear_Layer(my_conv_output.mean((2,3)))\n",
        "\n",
        "# manually implements the linear layer\n",
        "Y2 = np.dot(my_conv_output.mean((2,3)), Linear_Layer.w.value) + Linear_Layer.b.value\n",
        "\n",
        "# Print both Y1 and Y2\n",
        "print(\"The value of the rearranged output fed into a linear layer is:\", Y1[0][0])\n",
        "print(\"The value of the manually implemented linear layer is:\", Y2[0][0])"
      ],
      "execution_count": null,
      "outputs": [
        {
          "output_type": "stream",
          "name": "stdout",
          "text": [
            "The value of the rearranged output fed into a linear layer is: 0.034715444\n",
            "The value of the manually implemented linear layer is: 0.034715448\n"
          ]
        }
      ]
    },
    {
      "cell_type": "markdown",
      "source": [
        "The training set is used to determine the ideal weight and bias values for parameters that reduce training error/increase training accuracy. The parameters are then updated in the training routine when the training routine calls the loss function. The output of the optimizer function is then used to determine how the parameters should be modified by using the output of the loss function. The hyperparameters are tuned using the validation set, which is often a smaller dataset than the training set. Values for hyperparameters must be chosen before the training operation is carried out. The model's parameters are not changed while utilising the validation set."
      ],
      "metadata": {
        "id": "ZYM6DSxxCvm-"
      }
    },
    {
      "cell_type": "markdown",
      "metadata": {
        "id": "96QQXl3d2kZn"
      },
      "source": [
        "You have now completed Part 1 of the assignment. Good job!\n"
      ]
    },
    {
      "cell_type": "markdown",
      "metadata": {
        "id": "2kqaH75UUaSE"
      },
      "source": [
        "##**Part 2. Training and Tuning a CNN**\n",
        "\n",
        "The following starter code trains the neural network in Part 1. However, the optimizer and batch sampling routine are left for you to implement. Complete the lines that says #PUT YOUR CODE HERE#\n",
        "\n",
        "Afterwards, train the model, and observe the training/validation loss and accuracy plots. You should observe that the validation accuracy is low and stagnates after a few epochs."
      ]
    },
    {
      "cell_type": "code",
      "metadata": {
        "id": "zBcHWoCl0URZ"
      },
      "source": [
        "#Define loss function as averaged value of of cross entropies\n",
        "def loss_function(x, labels):\n",
        "    logit = model(x)\n",
        "    return objax.functional.loss.cross_entropy_logits_sparse(logit, labels).mean()\n",
        "\n",
        "#Define a prediction function\n",
        "predict = objax.Jit(lambda x: objax.functional.softmax(model(x)), model.vars()) \n",
        "\n",
        "#Create an object that can be used to calculate the gradient and value of loss_function\n",
        "gv= objax.GradValues(loss_function, model.vars())\n",
        "\n",
        "#Create an object that can be used to provide trainable variables in the model\n",
        "tv = objax.ModuleList(objax.TrainRef(x) for x in model.vars().subset(objax.TrainVar))\n",
        "\n",
        "#Training routine\n",
        "def train_op(x, y, learning_rate):\n",
        "    lr = learning_rate\n",
        "    gradient, loss_value = gv(x, y)   # calculate gradient and loss value \"backprop\"\n",
        "    #next we update the trainable parameter using SGD and similar procedure\n",
        "    for grad, params in zip(gradient, tv.vars()):\n",
        "      ####################\n",
        "      #PUT YOUR CODE HERE#\n",
        "      ####################\n",
        "      params.assign(params.value - lr * grad)                      \n",
        "    return loss_value                      # return loss value\n",
        "\n",
        "#make train_op (much) faster using JIT compilation\n",
        "train_op = objax.Jit(train_op, gv.vars() + tv.vars())"
      ],
      "execution_count": null,
      "outputs": []
    },
    {
      "cell_type": "code",
      "metadata": {
        "id": "hGPpVTfG0Ug1"
      },
      "source": [
        "def train(EPOCHS = 20, BATCH = 32, LEARNING_RATE = 9e-4):\n",
        "  avg_train_loss_epoch = []\n",
        "  avg_val_loss_epoch = []\n",
        "  train_acc_epoch = []\n",
        "  val_acc_epoch = []\n",
        "\n",
        "  for epoch in range(EPOCHS):\n",
        "      avg_train_loss = 0 # (averaged) training loss per batch\n",
        "      avg_val_loss =  0  # (averaged) validation loss per batch\n",
        "      train_acc = 0      # training accuracy per batch\n",
        "      val_acc = 0        # validation accuracy per batch\n",
        "\n",
        "      # shuffle the examples prior to training to remove correlation \n",
        "      train_indices = np.arange(len(X_train)) \n",
        "      np.random.shuffle(train_indices)\n",
        "      for it in range(0, X_train.shape[0], BATCH):\n",
        "          batch = train_indices[it:it+BATCH] #PUT YOUR CODE HERE#\n",
        "          avg_train_loss += float(train_op(X_train[batch], Y_train[batch], LEARNING_RATE)[0]) * len(batch)\n",
        "          train_prediction = predict(X_train[batch]).argmax(1)\n",
        "          train_acc += (np.array(train_prediction).flatten() == Y_train[batch]).sum()\n",
        "      train_acc_epoch.append(train_acc/X_train.shape[0])\n",
        "      avg_train_loss_epoch.append(avg_train_loss/X_train.shape[0])\n",
        "\n",
        "      # run validation\n",
        "      val_indices = np.arange(len(X_valid)) \n",
        "      np.random.shuffle(val_indices)    \n",
        "      for it in range(0, X_valid.shape[0], BATCH):\n",
        "          batch = val_indices[it:it+BATCH] #PUT YOUR CODE HERE#\n",
        "          avg_val_loss += float(loss_function(X_valid[batch], Y_valid[batch])) * len(batch)\n",
        "          val_prediction = predict(X_valid[batch]).argmax(1)\n",
        "          val_acc += (np.array(val_prediction).flatten() == Y_valid[batch]).sum()\n",
        "      val_acc_epoch.append(val_acc/X_valid.shape[0])\n",
        "      avg_val_loss_epoch.append(avg_val_loss/X_valid.shape[0])\n",
        "\n",
        "      print('Epoch %04d  Training Loss %.2f Validation Loss %.2f Training Accuracy %.2f Validation Accuracy %.2f' % (epoch + 1, avg_train_loss/X_train.shape[0], avg_val_loss/X_valid.shape[0], 100*train_acc/X_train.shape[0], 100*val_acc/X_valid.shape[0]))\n",
        "  \n",
        "  #Plot training loss\n",
        "  plt.title(\"Train vs Validation Loss\")\n",
        "  plt.plot(avg_train_loss_epoch, label=\"Train\")\n",
        "  plt.plot(avg_val_loss_epoch, label=\"Validation\")\n",
        "  plt.xlabel(\"Epoch\")\n",
        "  plt.ylabel(\"Loss\")\n",
        "  plt.legend(loc='best')\n",
        "  plt.show()\n",
        "\n",
        "  plt.title(\"Train vs Validation Accuracy\")\n",
        "  plt.plot(train_acc_epoch, label=\"Train\")\n",
        "  plt.plot(val_acc_epoch, label=\"Validation\")\n",
        "  plt.xlabel(\"Epoch\")\n",
        "  plt.ylabel(\"Accuracy (%)\")\n",
        "  plt.legend(loc='best')\n",
        "  plt.show()"
      ],
      "execution_count": null,
      "outputs": []
    },
    {
      "cell_type": "code",
      "metadata": {
        "id": "8YqWtV5VYW45",
        "colab": {
          "base_uri": "https://localhost:8080/",
          "height": 938
        },
        "outputId": "3a56f458-a11c-4032-9cc4-d7b6b7229cb9"
      },
      "source": [
        "train()"
      ],
      "execution_count": null,
      "outputs": [
        {
          "output_type": "stream",
          "name": "stdout",
          "text": [
            "Epoch 0001  Training Loss 2.30 Validation Loss 2.30 Training Accuracy 9.88 Validation Accuracy 10.03\n",
            "Epoch 0002  Training Loss 2.30 Validation Loss 2.29 Training Accuracy 9.78 Validation Accuracy 10.00\n",
            "Epoch 0003  Training Loss 2.29 Validation Loss 2.29 Training Accuracy 9.90 Validation Accuracy 10.32\n",
            "Epoch 0004  Training Loss 2.29 Validation Loss 2.29 Training Accuracy 10.52 Validation Accuracy 10.58\n",
            "Epoch 0005  Training Loss 2.29 Validation Loss 2.29 Training Accuracy 10.49 Validation Accuracy 11.25\n",
            "Epoch 0006  Training Loss 2.29 Validation Loss 2.28 Training Accuracy 11.10 Validation Accuracy 10.77\n",
            "Epoch 0007  Training Loss 2.28 Validation Loss 2.28 Training Accuracy 11.10 Validation Accuracy 11.62\n",
            "Epoch 0008  Training Loss 2.28 Validation Loss 2.28 Training Accuracy 11.50 Validation Accuracy 12.08\n",
            "Epoch 0009  Training Loss 2.28 Validation Loss 2.27 Training Accuracy 11.84 Validation Accuracy 12.25\n",
            "Epoch 0010  Training Loss 2.27 Validation Loss 2.27 Training Accuracy 12.33 Validation Accuracy 12.58\n",
            "Epoch 0011  Training Loss 2.27 Validation Loss 2.27 Training Accuracy 12.70 Validation Accuracy 12.90\n",
            "Epoch 0012  Training Loss 2.26 Validation Loss 2.26 Training Accuracy 12.94 Validation Accuracy 13.13\n",
            "Epoch 0013  Training Loss 2.26 Validation Loss 2.26 Training Accuracy 13.40 Validation Accuracy 13.50\n",
            "Epoch 0014  Training Loss 2.25 Validation Loss 2.25 Training Accuracy 13.62 Validation Accuracy 13.85\n",
            "Epoch 0015  Training Loss 2.25 Validation Loss 2.24 Training Accuracy 14.31 Validation Accuracy 14.37\n",
            "Epoch 0016  Training Loss 2.24 Validation Loss 2.24 Training Accuracy 14.90 Validation Accuracy 14.60\n",
            "Epoch 0017  Training Loss 2.24 Validation Loss 2.23 Training Accuracy 15.56 Validation Accuracy 15.55\n",
            "Epoch 0018  Training Loss 2.23 Validation Loss 2.22 Training Accuracy 16.02 Validation Accuracy 16.90\n",
            "Epoch 0019  Training Loss 2.22 Validation Loss 2.21 Training Accuracy 16.91 Validation Accuracy 17.40\n",
            "Epoch 0020  Training Loss 2.21 Validation Loss 2.21 Training Accuracy 17.56 Validation Accuracy 18.27\n"
          ]
        },
        {
          "output_type": "display_data",
          "data": {
            "text/plain": [
              "<Figure size 432x288 with 1 Axes>"
            ],
            "image/png": "[encoded data removed]"
          },
          "metadata": {
            "needs_background": "light"
          }
        },
        {
          "output_type": "display_data",
          "data": {
            "text/plain": [
              "<Figure size 432x288 with 1 Axes>"
            ],
            "image/png": "[encoded data removed]"
          },
          "metadata": {
            "needs_background": "light"
          }
        }
      ]
    },
    {
      "cell_type": "markdown",
      "metadata": {
        "id": "hluN6UIbNyj7"
      },
      "source": [
        "Follow the assignment handout for questions to be answered in this part of the assignment."
      ]
    },
    {
      "cell_type": "markdown",
      "source": [
        "Hyperparameters are parameters that the user has specifically established to regulate the learning process of the model. \n",
        "\n",
        "\n",
        "Often, we are unaware of the hyperparameters' ideal values that would produce the best model results from the onset. Thus, we must tune the hyperparameters to attain the highest validation accuracy/lowest validation loss. This can be done in our case, via trial and error by testing different hyperparameters values and creating different instantiations of models. Without trying different hyperparameter values, we might be left with a model which isn't accurate and that doesn't offer much insight in terms of predictions when we move onto the testing data which is more practical. "
      ],
      "metadata": {
        "id": "5xlpFUDXFB3P"
      }
    },
    {
      "cell_type": "markdown",
      "source": [
        "Q 2.5\n",
        "\n",
        "The four hyperparameters that I have chosen to tune are: batch size, learning rate, number of output channels in convolution layer 1, and activation function.\n",
        "\n",
        "With this in mind, two different hyperparameter settings are:\n",
        "\n",
        "H1 = {16, 0.01, 24, sigmoid}\n",
        "\n",
        "H2 = {24, 0.003, 16, tanh}"
      ],
      "metadata": {
        "id": "ykcszlI-SA_W"
      }
    },
    {
      "cell_type": "markdown",
      "source": [
        "**M1 Model Class with H1 Hyperparameters**"
      ],
      "metadata": {
        "id": "CoztKKe9dM3C"
      }
    },
    {
      "cell_type": "code",
      "metadata": {
        "id": "S8LXS4oHZA9M"
      },
      "source": [
        "# H1 = {16, 0.01, 24, sigmoid}\n",
        "# M1 model class with H1 hyperparameter selection\n",
        "class M1(objax.Module):\n",
        "  def __init__(self, number_of_channels = 3, number_of_classes = 10):\n",
        "    self.conv_1 = objax.nn.Sequential([objax.nn.Conv2D(number_of_channels, 24, 2), objax.functional.sigmoid])\n",
        "    self.conv_2 = objax.nn.Sequential([objax.nn.Conv2D(24, 32, 2), objax.functional.sigmoid])\n",
        "    self.linear = objax.nn.Linear(32, number_of_classes)\n",
        "\n",
        "  def __call__(self, x):\n",
        "    x = objax.functional.max_pool_2d(self.conv_1(x), 2, 2)\n",
        "    x = self.conv_2(x)\n",
        "  \n",
        "    x = x.mean((2,3)) #<--- global average pooling \n",
        "    x = self.linear(x)\n",
        "    return x\n",
        "\n",
        "#The following line creates the CNN\n",
        "model = M1()\n",
        "#You can examine the architecture of our CNN by calling model.vars()"
      ],
      "execution_count": null,
      "outputs": []
    },
    {
      "cell_type": "code",
      "source": [
        "#Define loss function as averaged value of of cross entropies\n",
        "def loss_function(x, labels):\n",
        "    logit = model(x)\n",
        "    return objax.functional.loss.cross_entropy_logits_sparse(logit, labels).mean()\n",
        "\n",
        "#Define a prediction function\n",
        "predict = objax.Jit(lambda x: objax.functional.softmax(model(x)), model.vars()) \n",
        "\n",
        "#Create an object that can be used to calculate the gradient and value of loss_function\n",
        "gv= objax.GradValues(loss_function, model.vars())\n",
        "\n",
        "#Create an object that can be used to provide trainable variables in the model\n",
        "tv = objax.ModuleList(objax.TrainRef(x) for x in model.vars().subset(objax.TrainVar))\n",
        "\n",
        "#Training routine\n",
        "def train_op(x, y, learning_rate):\n",
        "    lr = learning_rate\n",
        "    gradient, loss_value = gv(x, y)   # calculate gradient and loss value \"backprop\"\n",
        "    #next we update the trainable parameter using SGD and similar procedure\n",
        "    for grad, params in zip(gradient, tv.vars()):\n",
        "      ####################\n",
        "      #PUT YOUR CODE HERE#\n",
        "      ####################\n",
        "      params.assign(params.value - lr * grad)                      \n",
        "    return loss_value                      # return loss value\n",
        "\n",
        "#make train_op (much) faster using JIT compilation\n",
        "train_op = objax.Jit(train_op, gv.vars() + tv.vars())"
      ],
      "metadata": {
        "id": "mN8S54PDcNTH"
      },
      "execution_count": null,
      "outputs": []
    },
    {
      "cell_type": "code",
      "source": [
        "def train(EPOCHS = 20, BATCH = 16, LEARNING_RATE = 0.01):\n",
        "  avg_train_loss_epoch = []\n",
        "  avg_val_loss_epoch = []\n",
        "  train_acc_epoch = []\n",
        "  val_acc_epoch = []\n",
        "\n",
        "  for epoch in range(EPOCHS):\n",
        "      avg_train_loss = 0 # (averaged) training loss per batch\n",
        "      avg_val_loss =  0  # (averaged) validation loss per batch\n",
        "      train_acc = 0      # training accuracy per batch\n",
        "      val_acc = 0        # validation accuracy per batch\n",
        "\n",
        "      # shuffle the examples prior to training to remove correlation \n",
        "      train_indices = np.arange(len(X_train)) \n",
        "      np.random.shuffle(train_indices)\n",
        "      for it in range(0, X_train.shape[0], BATCH):\n",
        "          batch = train_indices[it:it+BATCH] #PUT YOUR CODE HERE#\n",
        "          avg_train_loss += float(train_op(X_train[batch], Y_train[batch], LEARNING_RATE)[0]) * len(batch)\n",
        "          train_prediction = predict(X_train[batch]).argmax(1)\n",
        "          train_acc += (np.array(train_prediction).flatten() == Y_train[batch]).sum()\n",
        "      train_acc_epoch.append(train_acc/X_train.shape[0])\n",
        "      avg_train_loss_epoch.append(avg_train_loss/X_train.shape[0])\n",
        "\n",
        "      # run validation\n",
        "      val_indices = np.arange(len(X_valid)) \n",
        "      np.random.shuffle(val_indices)    \n",
        "      for it in range(0, X_valid.shape[0], BATCH):\n",
        "          batch = val_indices[it:it+BATCH] #PUT YOUR CODE HERE#\n",
        "          avg_val_loss += float(loss_function(X_valid[batch], Y_valid[batch])) * len(batch)\n",
        "          val_prediction = predict(X_valid[batch]).argmax(1)\n",
        "          val_acc += (np.array(val_prediction).flatten() == Y_valid[batch]).sum()\n",
        "      val_acc_epoch.append(val_acc/X_valid.shape[0])\n",
        "      avg_val_loss_epoch.append(avg_val_loss/X_valid.shape[0])\n",
        "\n",
        "      print('Epoch %04d  Training Loss %.2f Validation Loss %.2f Training Accuracy %.2f Validation Accuracy %.2f' % (epoch + 1, avg_train_loss/X_train.shape[0], avg_val_loss/X_valid.shape[0], 100*train_acc/X_train.shape[0], 100*val_acc/X_valid.shape[0]))\n",
        "  \n",
        "  #Plot training loss\n",
        "  plt.title(\"Train vs Validation Loss\")\n",
        "  plt.plot(avg_train_loss_epoch, label=\"Train\")\n",
        "  plt.plot(avg_val_loss_epoch, label=\"Validation\")\n",
        "  plt.xlabel(\"Epoch\")\n",
        "  plt.ylabel(\"Loss\")\n",
        "  plt.legend(loc='best')\n",
        "  plt.show()\n",
        "\n",
        "  plt.title(\"Train vs Validation Accuracy\")\n",
        "  plt.plot(train_acc_epoch, label=\"Train\")\n",
        "  plt.plot(val_acc_epoch, label=\"Validation\")\n",
        "  plt.xlabel(\"Epoch\")\n",
        "  plt.ylabel(\"Accuracy (%)\")\n",
        "  plt.legend(loc='best')\n",
        "  plt.show()"
      ],
      "metadata": {
        "id": "BdcL1NZocPkz"
      },
      "execution_count": null,
      "outputs": []
    },
    {
      "cell_type": "code",
      "source": [
        "train()"
      ],
      "metadata": {
        "colab": {
          "base_uri": "https://localhost:8080/",
          "height": 938
        },
        "id": "BZRQfd3sdI0J",
        "outputId": "0ac6eb59-44ab-4efe-cc2f-6354800241b9"
      },
      "execution_count": null,
      "outputs": [
        {
          "output_type": "stream",
          "name": "stdout",
          "text": [
            "Epoch 0001  Training Loss 2.30 Validation Loss 2.30 Training Accuracy 13.12 Validation Accuracy 13.22\n",
            "Epoch 0002  Training Loss 2.30 Validation Loss 2.29 Training Accuracy 14.37 Validation Accuracy 14.65\n",
            "Epoch 0003  Training Loss 2.29 Validation Loss 2.28 Training Accuracy 16.02 Validation Accuracy 15.78\n",
            "Epoch 0004  Training Loss 2.28 Validation Loss 2.27 Training Accuracy 17.67 Validation Accuracy 15.93\n",
            "Epoch 0005  Training Loss 2.26 Validation Loss 2.24 Training Accuracy 18.43 Validation Accuracy 15.43\n",
            "Epoch 0006  Training Loss 2.23 Validation Loss 2.21 Training Accuracy 18.78 Validation Accuracy 18.05\n",
            "Epoch 0007  Training Loss 2.20 Validation Loss 2.18 Training Accuracy 19.59 Validation Accuracy 17.83\n",
            "Epoch 0008  Training Loss 2.17 Validation Loss 2.15 Training Accuracy 20.09 Validation Accuracy 19.72\n",
            "Epoch 0009  Training Loss 2.14 Validation Loss 2.13 Training Accuracy 20.52 Validation Accuracy 20.20\n",
            "Epoch 0010  Training Loss 2.13 Validation Loss 2.12 Training Accuracy 20.99 Validation Accuracy 19.78\n",
            "Epoch 0011  Training Loss 2.12 Validation Loss 2.11 Training Accuracy 21.44 Validation Accuracy 21.15\n",
            "Epoch 0012  Training Loss 2.11 Validation Loss 2.10 Training Accuracy 21.52 Validation Accuracy 21.03\n",
            "Epoch 0013  Training Loss 2.11 Validation Loss 2.10 Training Accuracy 21.73 Validation Accuracy 21.45\n",
            "Epoch 0014  Training Loss 2.10 Validation Loss 2.10 Training Accuracy 21.96 Validation Accuracy 21.63\n",
            "Epoch 0015  Training Loss 2.10 Validation Loss 2.09 Training Accuracy 22.14 Validation Accuracy 20.57\n",
            "Epoch 0016  Training Loss 2.10 Validation Loss 2.09 Training Accuracy 22.12 Validation Accuracy 22.27\n",
            "Epoch 0017  Training Loss 2.10 Validation Loss 2.09 Training Accuracy 22.11 Validation Accuracy 22.17\n",
            "Epoch 0018  Training Loss 2.09 Validation Loss 2.09 Training Accuracy 22.24 Validation Accuracy 21.23\n",
            "Epoch 0019  Training Loss 2.09 Validation Loss 2.09 Training Accuracy 22.81 Validation Accuracy 22.50\n",
            "Epoch 0020  Training Loss 2.09 Validation Loss 2.08 Training Accuracy 22.93 Validation Accuracy 21.47\n"
          ]
        },
        {
          "output_type": "display_data",
          "data": {
            "text/plain": [
              "<Figure size 432x288 with 1 Axes>"
            ],
            "image/png": "[encoded data removed]"
          },
          "metadata": {
            "needs_background": "light"
          }
        },
        {
          "output_type": "display_data",
          "data": {
            "text/plain": [
              "<Figure size 432x288 with 1 Axes>"
            ],
            "image/png": "[encoded data removed]"
          },
          "metadata": {
            "needs_background": "light"
          }
        }
      ]
    },
    {
      "cell_type": "markdown",
      "source": [
        "**M2 Model Class with H2 Hyperparameters**"
      ],
      "metadata": {
        "id": "XHhDu4audUGu"
      }
    },
    {
      "cell_type": "code",
      "source": [
        "# H2 = {24, 0.003, 16, tanh}\n",
        "# M2 model class with H1 hyperparameter selection\n",
        "class M2(objax.Module):\n",
        "  def __init__(self, number_of_channels = 3, number_of_classes = 10):\n",
        "    self.conv_1 = objax.nn.Sequential([objax.nn.Conv2D(number_of_channels, 16, 2), objax.functional.tanh])\n",
        "    self.conv_2 = objax.nn.Sequential([objax.nn.Conv2D(16, 32, 2), objax.functional.tanh])\n",
        "    self.linear = objax.nn.Linear(32, number_of_classes)\n",
        "\n",
        "  def __call__(self, x):\n",
        "    x = objax.functional.max_pool_2d(self.conv_1(x), 2, 2)\n",
        "    x = self.conv_2(x)\n",
        "  \n",
        "    x = x.mean((2,3)) #<--- global average pooling \n",
        "    x = self.linear(x)\n",
        "    return x\n",
        "\n",
        "#The following line creates the CNN\n",
        "model = M2()\n",
        "#You can examine the architecture of our CNN by calling model.vars()"
      ],
      "metadata": {
        "id": "i_d7_DV3dX37"
      },
      "execution_count": null,
      "outputs": []
    },
    {
      "cell_type": "code",
      "source": [
        "#Define loss function as averaged value of of cross entropies\n",
        "def loss_function(x, labels):\n",
        "    logit = model(x)\n",
        "    return objax.functional.loss.cross_entropy_logits_sparse(logit, labels).mean()\n",
        "\n",
        "#Define a prediction function\n",
        "predict = objax.Jit(lambda x: objax.functional.softmax(model(x)), model.vars()) \n",
        "\n",
        "#Create an object that can be used to calculate the gradient and value of loss_function\n",
        "gv= objax.GradValues(loss_function, model.vars())\n",
        "\n",
        "#Create an object that can be used to provide trainable variables in the model\n",
        "tv = objax.ModuleList(objax.TrainRef(x) for x in model.vars().subset(objax.TrainVar))\n",
        "\n",
        "#Training routine\n",
        "def train_op(x, y, learning_rate):\n",
        "    lr = learning_rate\n",
        "    gradient, loss_value = gv(x, y)   # calculate gradient and loss value \"backprop\"\n",
        "    #next we update the trainable parameter using SGD and similar procedure\n",
        "    for grad, params in zip(gradient, tv.vars()):\n",
        "      ####################\n",
        "      #PUT YOUR CODE HERE#\n",
        "      ####################\n",
        "      params.assign(params.value - lr * grad)                      \n",
        "    return loss_value                      # return loss value\n",
        "\n",
        "#make train_op (much) faster using JIT compilation\n",
        "train_op = objax.Jit(train_op, gv.vars() + tv.vars())"
      ],
      "metadata": {
        "id": "y2DqSOXXdtmA"
      },
      "execution_count": null,
      "outputs": []
    },
    {
      "cell_type": "code",
      "source": [
        "def train(EPOCHS = 20, BATCH = 24, LEARNING_RATE = 0.003):\n",
        "  avg_train_loss_epoch = []\n",
        "  avg_val_loss_epoch = []\n",
        "  train_acc_epoch = []\n",
        "  val_acc_epoch = []\n",
        "\n",
        "  for epoch in range(EPOCHS):\n",
        "      avg_train_loss = 0 # (averaged) training loss per batch\n",
        "      avg_val_loss =  0  # (averaged) validation loss per batch\n",
        "      train_acc = 0      # training accuracy per batch\n",
        "      val_acc = 0        # validation accuracy per batch\n",
        "\n",
        "      # shuffle the examples prior to training to remove correlation \n",
        "      train_indices = np.arange(len(X_train)) \n",
        "      np.random.shuffle(train_indices)\n",
        "      for it in range(0, X_train.shape[0], BATCH):\n",
        "          batch = train_indices[it:it+BATCH] #PUT YOUR CODE HERE#\n",
        "          avg_train_loss += float(train_op(X_train[batch], Y_train[batch], LEARNING_RATE)[0]) * len(batch)\n",
        "          train_prediction = predict(X_train[batch]).argmax(1)\n",
        "          train_acc += (np.array(train_prediction).flatten() == Y_train[batch]).sum()\n",
        "      train_acc_epoch.append(train_acc/X_train.shape[0])\n",
        "      avg_train_loss_epoch.append(avg_train_loss/X_train.shape[0])\n",
        "\n",
        "      # run validation\n",
        "      val_indices = np.arange(len(X_valid)) \n",
        "      np.random.shuffle(val_indices)    \n",
        "      for it in range(0, X_valid.shape[0], BATCH):\n",
        "          batch = val_indices[it:it+BATCH] #PUT YOUR CODE HERE#\n",
        "          avg_val_loss += float(loss_function(X_valid[batch], Y_valid[batch])) * len(batch)\n",
        "          val_prediction = predict(X_valid[batch]).argmax(1)\n",
        "          val_acc += (np.array(val_prediction).flatten() == Y_valid[batch]).sum()\n",
        "      val_acc_epoch.append(val_acc/X_valid.shape[0])\n",
        "      avg_val_loss_epoch.append(avg_val_loss/X_valid.shape[0])\n",
        "\n",
        "      print('Epoch %04d  Training Loss %.2f Validation Loss %.2f Training Accuracy %.2f Validation Accuracy %.2f' % (epoch + 1, avg_train_loss/X_train.shape[0], avg_val_loss/X_valid.shape[0], 100*train_acc/X_train.shape[0], 100*val_acc/X_valid.shape[0]))\n",
        "  \n",
        "  #Plot training loss\n",
        "  plt.title(\"Train vs Validation Loss\")\n",
        "  plt.plot(avg_train_loss_epoch, label=\"Train\")\n",
        "  plt.plot(avg_val_loss_epoch, label=\"Validation\")\n",
        "  plt.xlabel(\"Epoch\")\n",
        "  plt.ylabel(\"Loss\")\n",
        "  plt.legend(loc='best')\n",
        "  plt.show()\n",
        "\n",
        "  plt.title(\"Train vs Validation Accuracy\")\n",
        "  plt.plot(train_acc_epoch, label=\"Train\")\n",
        "  plt.plot(val_acc_epoch, label=\"Validation\")\n",
        "  plt.xlabel(\"Epoch\")\n",
        "  plt.ylabel(\"Accuracy (%)\")\n",
        "  plt.legend(loc='best')\n",
        "  plt.show()"
      ],
      "metadata": {
        "id": "vwthVaQcduSV"
      },
      "execution_count": null,
      "outputs": []
    },
    {
      "cell_type": "code",
      "source": [
        "train()"
      ],
      "metadata": {
        "colab": {
          "base_uri": "https://localhost:8080/",
          "height": 938
        },
        "id": "ZwHLUbPpeFsx",
        "outputId": "b4bf7510-921a-49c4-cbcb-a7634447dd72"
      },
      "execution_count": null,
      "outputs": [
        {
          "output_type": "stream",
          "name": "stdout",
          "text": [
            "Epoch 0001  Training Loss 2.30 Validation Loss 2.27 Training Accuracy 12.28 Validation Accuracy 17.72\n",
            "Epoch 0002  Training Loss 2.26 Validation Loss 2.23 Training Accuracy 18.68 Validation Accuracy 20.77\n",
            "Epoch 0003  Training Loss 2.21 Validation Loss 2.18 Training Accuracy 21.57 Validation Accuracy 22.30\n",
            "Epoch 0004  Training Loss 2.15 Validation Loss 2.12 Training Accuracy 22.61 Validation Accuracy 24.12\n",
            "Epoch 0005  Training Loss 2.11 Validation Loss 2.08 Training Accuracy 23.60 Validation Accuracy 23.18\n",
            "Epoch 0006  Training Loss 2.07 Validation Loss 2.06 Training Accuracy 24.39 Validation Accuracy 24.32\n",
            "Epoch 0007  Training Loss 2.05 Validation Loss 2.04 Training Accuracy 24.74 Validation Accuracy 24.73\n",
            "Epoch 0008  Training Loss 2.03 Validation Loss 2.02 Training Accuracy 25.19 Validation Accuracy 25.00\n",
            "Epoch 0009  Training Loss 2.02 Validation Loss 2.01 Training Accuracy 25.62 Validation Accuracy 25.38\n",
            "Epoch 0010  Training Loss 2.01 Validation Loss 2.00 Training Accuracy 25.85 Validation Accuracy 25.77\n",
            "Epoch 0011  Training Loss 1.99 Validation Loss 1.99 Training Accuracy 26.32 Validation Accuracy 26.58\n",
            "Epoch 0012  Training Loss 1.98 Validation Loss 1.98 Training Accuracy 26.98 Validation Accuracy 26.88\n",
            "Epoch 0013  Training Loss 1.97 Validation Loss 1.97 Training Accuracy 27.23 Validation Accuracy 27.45\n",
            "Epoch 0014  Training Loss 1.96 Validation Loss 1.96 Training Accuracy 27.62 Validation Accuracy 27.20\n",
            "Epoch 0015  Training Loss 1.96 Validation Loss 1.95 Training Accuracy 27.91 Validation Accuracy 27.83\n",
            "Epoch 0016  Training Loss 1.95 Validation Loss 1.94 Training Accuracy 28.31 Validation Accuracy 28.33\n",
            "Epoch 0017  Training Loss 1.94 Validation Loss 1.94 Training Accuracy 28.53 Validation Accuracy 28.33\n",
            "Epoch 0018  Training Loss 1.93 Validation Loss 1.93 Training Accuracy 28.89 Validation Accuracy 28.58\n",
            "Epoch 0019  Training Loss 1.93 Validation Loss 1.92 Training Accuracy 29.23 Validation Accuracy 28.98\n",
            "Epoch 0020  Training Loss 1.92 Validation Loss 1.92 Training Accuracy 29.51 Validation Accuracy 28.98\n"
          ]
        },
        {
          "output_type": "display_data",
          "data": {
            "text/plain": [
              "<Figure size 432x288 with 1 Axes>"
            ],
            "image/png": "[encoded data removed]"
          },
          "metadata": {
            "needs_background": "light"
          }
        },
        {
          "output_type": "display_data",
          "data": {
            "text/plain": [
              "<Figure size 432x288 with 1 Axes>"
            ],
            "image/png": "[encoded data removed]"
          },
          "metadata": {
            "needs_background": "light"
          }
        }
      ]
    },
    {
      "cell_type": "markdown",
      "source": [
        "Report the best validation accuracy as well as the corresponding epoch for which this occurs for the Base Model and your two additional models:\n",
        "\n",
        "Base Model: 18.27% at Epoch 20\n",
        "\n",
        "M1: 22.50% at Epoch 19\n",
        "\n",
        "M2: 28.98% at Epoch 20"
      ],
      "metadata": {
        "id": "L-pkS9tRek1-"
      }
    },
    {
      "cell_type": "markdown",
      "source": [
        "The model I would select against test data is M2. M2 has the highest validation accuracy amongst the two other models, which is an indicator that its hyperparameters do the best job in attaining higher accuracy with unseen data. Thus, I expect M2 to perform the best with test data."
      ],
      "metadata": {
        "id": "Qih3l4siih0n"
      }
    },
    {
      "cell_type": "code",
      "source": [
        "mean_test_loss = float(loss_function(X_test, Y_test)) \n",
        "test_prediction = predict(X_test).argmax(1)\n",
        "test_acc = ((np.array(test_prediction).flatten() == Y_test).sum())/X_test.shape[0]\n",
        "print('Mean Test Loss: %.2f' % (mean_test_loss))\n",
        "print('Test set accuracy: %.2f' % (test_acc*100))"
      ],
      "metadata": {
        "colab": {
          "base_uri": "https://localhost:8080/"
        },
        "id": "8dNPk9cSi2RO",
        "outputId": "b9bd0728-1b60-49e5-ac56-a2c2c9267353"
      },
      "execution_count": null,
      "outputs": [
        {
          "output_type": "stream",
          "name": "stdout",
          "text": [
            "Mean Test Loss: 2.34\n",
            "Test set accuracy: 9.97\n"
          ]
        }
      ]
    },
    {
      "cell_type": "markdown",
      "metadata": {
        "id": "_XOXmJiGZF78"
      },
      "source": [
        "You have now completed Part 2 of the assignment. Good job!\n"
      ]
    },
    {
      "cell_type": "markdown",
      "metadata": {
        "id": "cno9fjO1o2Jq"
      },
      "source": [
        "##**Part 3. Trying Out a New Dataset**\n",
        "\n",
        "See the handout for instructions.\n"
      ]
    },
    {
      "cell_type": "code",
      "source": [
        "# I chose to use the Fashion_MNIST dataset\n",
        "#.load_data() by default returns a split between training and test set. \n",
        "# We then adjust the training set into a format that can be accepted by our CNN\n",
        "(X_train, Y_train), (X_test, Y_test) = tf.keras.datasets.mnist.load_data()\n",
        "\n",
        "X_train = np.expand_dims(X_train, 1)\n",
        "X_train = X_train / 255.0\n",
        "X_test = np.expand_dims(X_test, 1)\n",
        "X_test = X_test / 255.0\n",
        "\n",
        "np.random.seed(1)\n",
        "# To create a validation set, we first concate the original splitted dataset into a single dataset \n",
        "# then randomly shuffle the images and labels in the same way (seed = 1)\n",
        "X_data = np.concatenate([X_train, X_test], axis = 0)\n",
        "Y_data = np.concatenate([Y_train, Y_test], axis = 0)\n",
        "\n",
        "N = np.arange(len(X_data))\n",
        "np.random.shuffle(N)\n",
        "X_data = X_data[N]\n",
        "Y_data = Y_data[N]\n",
        "\n",
        "#Next, we partition the randomly shuffled dataset into training, validation and testset according a ratio\n",
        "train_ratio = 0.80\n",
        "valid_ratio = 0.1\n",
        "n_train = int(len(X_data) * train_ratio)\n",
        "n_valid = int(len(X_data) * valid_ratio)\n",
        "\n",
        "X_train, X_valid, X_test = X_data[:n_train], X_data[n_train:n_train+n_valid], X_data[n_train+n_valid:]\n",
        "Y_train, Y_valid, Y_test = Y_data[:n_train], Y_data[n_train:n_train+n_valid], Y_data[n_train+n_valid:]"
      ],
      "metadata": {
        "id": "jP17OBSz1Vd7"
      },
      "execution_count": 12,
      "outputs": []
    },
    {
      "cell_type": "markdown",
      "source": [
        "For the base model, I will use a similar base model the Conv Network I built in Q1\n"
      ],
      "metadata": {
        "id": "l7hW9c5jwDMw"
      }
    },
    {
      "cell_type": "code",
      "source": [
        "class Fashion_MNIST(objax.Module):\n",
        "  def __init__(self, number_of_channels = 1, number_of_classes = 10):\n",
        "    self.conv_1 = objax.nn.Sequential([objax.nn.Conv2D(number_of_channels, 16, 2), objax.functional.relu])\n",
        "    self.conv_2 = objax.nn.Sequential([objax.nn.Conv2D(16, 32, 2), objax.functional.relu])\n",
        "    self.linear = objax.nn.Linear(32, number_of_classes)\n",
        "\n",
        "  def __call__(self, x):\n",
        "    x = self.conv_1(x)\n",
        "    x = objax.functional.max_pool_2d(x, 2, 2)\n",
        "    x = self.conv_2(x)\n",
        "  \n",
        "    x = x.mean((2,3)) #<--- global average pooling \n",
        "    x = self.linear(x)\n",
        "    return x\n",
        "\n",
        "#The following line creates the CNN\n",
        "model = Fashion_MNIST(number_of_channels=1)\n",
        "#You can examine the architecture of our CNN by calling model.vars()"
      ],
      "metadata": {
        "id": "TtJ4W3A_v_7l"
      },
      "execution_count": 13,
      "outputs": []
    },
    {
      "cell_type": "code",
      "source": [
        "#Define loss function as averaged value of of cross entropies\n",
        "def loss_function(x, labels):\n",
        "    logit = model(x)\n",
        "    return objax.functional.loss.cross_entropy_logits_sparse(logit, labels).mean()\n",
        "\n",
        "#Define a prediction function\n",
        "predict = objax.Jit(lambda x: objax.functional.softmax(model(x)), model.vars()) \n",
        "\n",
        "#Create an object that can be used to calculate the gradient and value of loss_function\n",
        "gv= objax.GradValues(loss_function, model.vars())\n",
        "\n",
        "#Create an object that can be used to provide trainable variables in the model\n",
        "tv = objax.ModuleList(objax.TrainRef(x) for x in model.vars().subset(objax.TrainVar))\n",
        "\n",
        "#Training routine\n",
        "def train_op(x, y, learning_rate):\n",
        "    lr = learning_rate\n",
        "    gradient, loss_value = gv(x, y)   # calculate gradient and loss value \"backprop\"\n",
        "    #next we update the trainable parameter using SGD and similar procedure\n",
        "    for grad, params in zip(gradient, tv.vars()):\n",
        "      ####################\n",
        "      #PUT YOUR CODE HERE#\n",
        "      ####################\n",
        "      params.assign(params.value - lr * grad)                      \n",
        "    return loss_value                      # return loss value\n",
        "\n",
        "#make train_op (much) faster using JIT compilation\n",
        "train_op = objax.Jit(train_op, gv.vars() + tv.vars())"
      ],
      "metadata": {
        "id": "SLamdnm9wiG1"
      },
      "execution_count": 5,
      "outputs": []
    },
    {
      "cell_type": "code",
      "source": [
        "def train(EPOCHS = 20, BATCH = 32, LEARNING_RATE = 9e-4):\n",
        "  avg_train_loss_epoch = []\n",
        "  avg_val_loss_epoch = []\n",
        "  train_acc_epoch = []\n",
        "  val_acc_epoch = []\n",
        "\n",
        "  for epoch in range(EPOCHS):\n",
        "      avg_train_loss = 0 # (averaged) training loss per batch\n",
        "      avg_val_loss =  0  # (averaged) validation loss per batch\n",
        "      train_acc = 0      # training accuracy per batch\n",
        "      val_acc = 0        # validation accuracy per batch\n",
        "\n",
        "      # shuffle the examples prior to training to remove correlation \n",
        "      train_indices = np.arange(len(X_train)) \n",
        "      np.random.shuffle(train_indices)\n",
        "      for it in range(0, X_train.shape[0], BATCH):\n",
        "          batch = train_indices[it:it+BATCH] #PUT YOUR CODE HERE#\n",
        "          avg_train_loss += float(train_op(X_train[batch], Y_train[batch], LEARNING_RATE)[0]) * len(batch)\n",
        "          train_prediction = predict(X_train[batch]).argmax(1)\n",
        "          train_acc += (np.array(train_prediction).flatten() == Y_train[batch]).sum()\n",
        "      train_acc_epoch.append(train_acc/X_train.shape[0])\n",
        "      avg_train_loss_epoch.append(avg_train_loss/X_train.shape[0])\n",
        "\n",
        "      # run validation\n",
        "      val_indices = np.arange(len(X_valid)) \n",
        "      np.random.shuffle(val_indices)    \n",
        "      for it in range(0, X_valid.shape[0], BATCH):\n",
        "          batch = val_indices[it:it+BATCH] #PUT YOUR CODE HERE#\n",
        "          avg_val_loss += float(loss_function(X_valid[batch], Y_valid[batch])) * len(batch)\n",
        "          val_prediction = predict(X_valid[batch]).argmax(1)\n",
        "          val_acc += (np.array(val_prediction).flatten() == Y_valid[batch]).sum()\n",
        "      val_acc_epoch.append(val_acc/X_valid.shape[0])\n",
        "      avg_val_loss_epoch.append(avg_val_loss/X_valid.shape[0])\n",
        "\n",
        "      print('Epoch %04d  Training Loss %.2f Validation Loss %.2f Training Accuracy %.2f Validation Accuracy %.2f' % (epoch + 1, avg_train_loss/X_train.shape[0], avg_val_loss/X_valid.shape[0], 100*train_acc/X_train.shape[0], 100*val_acc/X_valid.shape[0]))\n",
        "  \n",
        "  #Plot training loss\n",
        "  plt.title(\"Train vs Validation Loss\")\n",
        "  plt.plot(avg_train_loss_epoch, label=\"Train\")\n",
        "  plt.plot(avg_val_loss_epoch, label=\"Validation\")\n",
        "  plt.xlabel(\"Epoch\")\n",
        "  plt.ylabel(\"Loss\")\n",
        "  plt.legend(loc='best')\n",
        "  plt.show()\n",
        "\n",
        "  plt.title(\"Train vs Validation Accuracy\")\n",
        "  plt.plot(train_acc_epoch, label=\"Train\")\n",
        "  plt.plot(val_acc_epoch, label=\"Validation\")\n",
        "  plt.xlabel(\"Epoch\")\n",
        "  plt.ylabel(\"Accuracy (%)\")\n",
        "  plt.legend(loc='best')\n",
        "  plt.show()"
      ],
      "metadata": {
        "id": "oEBaN588oUVi"
      },
      "execution_count": 14,
      "outputs": []
    },
    {
      "cell_type": "code",
      "source": [
        "train()"
      ],
      "metadata": {
        "colab": {
          "base_uri": "https://localhost:8080/",
          "height": 363
        },
        "id": "e7zfjH2FwpSi",
        "outputId": "a3a16d35-4c53-4ecc-d311-5146d90c62c3"
      },
      "execution_count": 15,
      "outputs": [
        {
          "output_type": "stream",
          "name": "stdout",
          "text": [
            "Epoch 0001  Training Loss 1.66 Validation Loss 2.31 Training Accuracy 40.83 Validation Accuracy 40.90\n",
            "Epoch 0002  Training Loss 1.66 Validation Loss 2.31 Training Accuracy 41.19 Validation Accuracy 41.44\n",
            "Epoch 0003  Training Loss 1.65 Validation Loss 2.31 Training Accuracy 41.53 Validation Accuracy 40.90\n"
          ]
        },
        {
          "output_type": "error",
          "ename": "KeyboardInterrupt",
          "evalue": "ignored",
          "traceback": [
            "\u001b[0;31m---------------------------------------------------------------------------\u001b[0m",
            "\u001b[0;31mKeyboardInterrupt\u001b[0m                         Traceback (most recent call last)",
            "\u001b[0;32m<ipython-input-15-2da0ffaf5447>\u001b[0m in \u001b[0;36m<module>\u001b[0;34m\u001b[0m\n\u001b[0;32m----> 1\u001b[0;31m \u001b[0mtrain\u001b[0m\u001b[0;34m(\u001b[0m\u001b[0;34m)\u001b[0m\u001b[0;34m\u001b[0m\u001b[0;34m\u001b[0m\u001b[0m\n\u001b[0m",
            "\u001b[0;32m<ipython-input-14-67ac27b2cccd>\u001b[0m in \u001b[0;36mtrain\u001b[0;34m(EPOCHS, BATCH, LEARNING_RATE)\u001b[0m\n\u001b[1;32m     17\u001b[0m           \u001b[0mbatch\u001b[0m \u001b[0;34m=\u001b[0m \u001b[0mtrain_indices\u001b[0m\u001b[0;34m[\u001b[0m\u001b[0mit\u001b[0m\u001b[0;34m:\u001b[0m\u001b[0mit\u001b[0m\u001b[0;34m+\u001b[0m\u001b[0mBATCH\u001b[0m\u001b[0;34m]\u001b[0m \u001b[0;31m#PUT YOUR CODE HERE#\u001b[0m\u001b[0;34m\u001b[0m\u001b[0;34m\u001b[0m\u001b[0m\n\u001b[1;32m     18\u001b[0m           \u001b[0mavg_train_loss\u001b[0m \u001b[0;34m+=\u001b[0m \u001b[0mfloat\u001b[0m\u001b[0;34m(\u001b[0m\u001b[0mtrain_op\u001b[0m\u001b[0;34m(\u001b[0m\u001b[0mX_train\u001b[0m\u001b[0;34m[\u001b[0m\u001b[0mbatch\u001b[0m\u001b[0;34m]\u001b[0m\u001b[0;34m,\u001b[0m \u001b[0mY_train\u001b[0m\u001b[0;34m[\u001b[0m\u001b[0mbatch\u001b[0m\u001b[0;34m]\u001b[0m\u001b[0;34m,\u001b[0m \u001b[0mLEARNING_RATE\u001b[0m\u001b[0;34m)\u001b[0m\u001b[0;34m[\u001b[0m\u001b[0;36m0\u001b[0m\u001b[0;34m]\u001b[0m\u001b[0;34m)\u001b[0m \u001b[0;34m*\u001b[0m \u001b[0mlen\u001b[0m\u001b[0;34m(\u001b[0m\u001b[0mbatch\u001b[0m\u001b[0;34m)\u001b[0m\u001b[0;34m\u001b[0m\u001b[0;34m\u001b[0m\u001b[0m\n\u001b[0;32m---> 19\u001b[0;31m           \u001b[0mtrain_prediction\u001b[0m \u001b[0;34m=\u001b[0m \u001b[0mpredict\u001b[0m\u001b[0;34m(\u001b[0m\u001b[0mX_train\u001b[0m\u001b[0;34m[\u001b[0m\u001b[0mbatch\u001b[0m\u001b[0;34m]\u001b[0m\u001b[0;34m)\u001b[0m\u001b[0;34m.\u001b[0m\u001b[0margmax\u001b[0m\u001b[0;34m(\u001b[0m\u001b[0;36m1\u001b[0m\u001b[0;34m)\u001b[0m\u001b[0;34m\u001b[0m\u001b[0;34m\u001b[0m\u001b[0m\n\u001b[0m\u001b[1;32m     20\u001b[0m           \u001b[0mtrain_acc\u001b[0m \u001b[0;34m+=\u001b[0m \u001b[0;34m(\u001b[0m\u001b[0mnp\u001b[0m\u001b[0;34m.\u001b[0m\u001b[0marray\u001b[0m\u001b[0;34m(\u001b[0m\u001b[0mtrain_prediction\u001b[0m\u001b[0;34m)\u001b[0m\u001b[0;34m.\u001b[0m\u001b[0mflatten\u001b[0m\u001b[0;34m(\u001b[0m\u001b[0;34m)\u001b[0m \u001b[0;34m==\u001b[0m \u001b[0mY_train\u001b[0m\u001b[0;34m[\u001b[0m\u001b[0mbatch\u001b[0m\u001b[0;34m]\u001b[0m\u001b[0;34m)\u001b[0m\u001b[0;34m.\u001b[0m\u001b[0msum\u001b[0m\u001b[0;34m(\u001b[0m\u001b[0;34m)\u001b[0m\u001b[0;34m\u001b[0m\u001b[0;34m\u001b[0m\u001b[0m\n\u001b[1;32m     21\u001b[0m       \u001b[0mtrain_acc_epoch\u001b[0m\u001b[0;34m.\u001b[0m\u001b[0mappend\u001b[0m\u001b[0;34m(\u001b[0m\u001b[0mtrain_acc\u001b[0m\u001b[0;34m/\u001b[0m\u001b[0mX_train\u001b[0m\u001b[0;34m.\u001b[0m\u001b[0mshape\u001b[0m\u001b[0;34m[\u001b[0m\u001b[0;36m0\u001b[0m\u001b[0;34m]\u001b[0m\u001b[0;34m)\u001b[0m\u001b[0;34m\u001b[0m\u001b[0;34m\u001b[0m\u001b[0m\n",
            "\u001b[0;32m/usr/local/lib/python3.7/dist-packages/objax/module.py\u001b[0m in \u001b[0;36m__call__\u001b[0;34m(self, *args, **kwargs)\u001b[0m\n\u001b[1;32m    256\u001b[0m     \u001b[0;32mdef\u001b[0m \u001b[0m__call__\u001b[0m\u001b[0;34m(\u001b[0m\u001b[0mself\u001b[0m\u001b[0;34m,\u001b[0m \u001b[0;34m*\u001b[0m\u001b[0margs\u001b[0m\u001b[0;34m,\u001b[0m \u001b[0;34m**\u001b[0m\u001b[0mkwargs\u001b[0m\u001b[0;34m)\u001b[0m\u001b[0;34m:\u001b[0m\u001b[0;34m\u001b[0m\u001b[0;34m\u001b[0m\u001b[0m\n\u001b[1;32m    257\u001b[0m         \u001b[0;34m\"\"\"Call the compiled version of the function or module.\"\"\"\u001b[0m\u001b[0;34m\u001b[0m\u001b[0;34m\u001b[0m\u001b[0m\n\u001b[0;32m--> 258\u001b[0;31m         \u001b[0moutput\u001b[0m\u001b[0;34m,\u001b[0m \u001b[0mchanges\u001b[0m \u001b[0;34m=\u001b[0m \u001b[0mself\u001b[0m\u001b[0;34m.\u001b[0m\u001b[0m_call\u001b[0m\u001b[0;34m(\u001b[0m\u001b[0mself\u001b[0m\u001b[0;34m.\u001b[0m\u001b[0mvc\u001b[0m\u001b[0;34m.\u001b[0m\u001b[0mtensors\u001b[0m\u001b[0;34m(\u001b[0m\u001b[0;34m)\u001b[0m\u001b[0;34m,\u001b[0m \u001b[0mkwargs\u001b[0m\u001b[0;34m,\u001b[0m \u001b[0;34m*\u001b[0m\u001b[0margs\u001b[0m\u001b[0;34m)\u001b[0m\u001b[0;34m\u001b[0m\u001b[0;34m\u001b[0m\u001b[0m\n\u001b[0m\u001b[1;32m    259\u001b[0m         \u001b[0mself\u001b[0m\u001b[0;34m.\u001b[0m\u001b[0mvc\u001b[0m\u001b[0;34m.\u001b[0m\u001b[0massign\u001b[0m\u001b[0;34m(\u001b[0m\u001b[0mchanges\u001b[0m\u001b[0;34m)\u001b[0m\u001b[0;34m\u001b[0m\u001b[0;34m\u001b[0m\u001b[0m\n\u001b[1;32m    260\u001b[0m         \u001b[0;32mreturn\u001b[0m \u001b[0moutput\u001b[0m\u001b[0;34m\u001b[0m\u001b[0;34m\u001b[0m\u001b[0m\n",
            "\u001b[0;31mKeyboardInterrupt\u001b[0m: "
          ]
        }
      ]
    },
    {
      "cell_type": "markdown",
      "metadata": {
        "id": "Eye-uBnQWgc8"
      },
      "source": [
        "##**Problem 4. Open-Ended Exploration**\n",
        "\n",
        "See the handout for instructions."
      ]
    }
  ]
}