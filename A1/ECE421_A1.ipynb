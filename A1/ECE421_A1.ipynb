{
  "cells": [
    {
      "cell_type": "markdown",
      "metadata": {
        "id": "I8a3nji4mxSk"
      },
      "source": [
        "Question 1"
      ]
    },
    {
      "cell_type": "code",
      "execution_count": 1,
      "metadata": {
        "id": "1I3tlq6T1dki"
      },
      "outputs": [],
      "source": [
        "# Use only numpy library\n",
        "import numpy as np\n",
        "\n",
        "# Randomly initialize centroids at the beginning\n",
        "def centroid_init(data, num_samples, k):\n",
        "    centroids = data[np.random.choice(num_samples, k, replace=False)]\n",
        "    return centroids\n",
        "\n",
        "# Cluster Assignment function\n",
        "def distance(data, centroids, num_samples, assignments):\n",
        "    cluster_dict = dict()\n",
        "    for i in range(num_samples):\n",
        "        x_i = 0\n",
        "        distance = np.linalg.norm(data[i] - centroids[0])\n",
        "        for j in range(1, k):\n",
        "            if distance > np.linalg.norm(data[i] - centroids[j]):\n",
        "                x_i = j\n",
        "                distance = np.linalg.norm(data[i]-centroids[j])\n",
        "\n",
        "        assignments[i] = x_i\n",
        "\n",
        "        if x_i not in cluster_dict:\n",
        "            cluster_dict[x_i] = [i]\n",
        "\n",
        "        else:\n",
        "            cluster_dict[x_i].append(i)\n",
        "            \n",
        "    return cluster_dict\n",
        "\n",
        "# Move centroid function\n",
        "def move_centroid(data, cluster_dict, cluster_c):\n",
        "    for x, samples in cluster_dict.items():\n",
        "        cluster_c[x] = np.mean(np.array([data[i] for i in samples]), axis=0)\n",
        "        \n",
        "    return cluster_c\n",
        "\n",
        "def k_means(data, k):\n",
        "    # Get the number of samples from the breast cancer data\n",
        "    num_samples = data.shape[0]\n",
        "    # Initialize centroids randomly\n",
        "    cluster_c = centroid_init(data, num_samples, k)\n",
        "    # Create numpy array of zeroes of the number of features of the data\n",
        "    past_c = np.zeros((k, data.shape[1]))\n",
        "    # Create a cluster assignment numpy array that's empty of the number of samples of data\n",
        "    assignments = np.empty(num_samples, dtype=np.int8)\n",
        "\n",
        "    flag = True\n",
        "    while flag == True:\n",
        "        # Initialize a cluster dictionary and assign it to the cluster assignment function\n",
        "        cluster_dict = dict()\n",
        "        cluster_dict = distance(data, cluster_c, num_samples, assignments)\n",
        "\n",
        "        # Assign the cluster centroids to the new moved centroids\n",
        "        cluster_c = move_centroid(data, cluster_dict, cluster_c)\n",
        "\n",
        "        # End the while loop if the old centroids are the same as the new centroid assignments\n",
        "        if (cluster_c == past_c).all():\n",
        "            flag = False\n",
        "\n",
        "        # Assign the old centroids to the new centroids after checking if they were equal before    \n",
        "        past_c = np.copy(cluster_c)\n",
        "        \n",
        "    return assignments, cluster_c"
      ]
    },
    {
      "cell_type": "markdown",
      "metadata": {
        "id": "ntnSS_fDm_ct"
      },
      "source": [
        "Question 2"
      ]
    },
    {
      "cell_type": "code",
      "execution_count": 2,
      "metadata": {
        "colab": {
          "base_uri": "https://localhost:8080/"
        },
        "id": "j6tZAZZ9na34",
        "outputId": "aa896224-da44-40db-a8be-54bcb735d8d1"
      },
      "outputs": [
        {
          "name": "stdout",
          "output_type": "stream",
          "text": [
            "For k-value of 2 the corresponding distortion value is: 136982.6008405956\n",
            "For k-value of 3 the corresponding distortion value is: 83479.52939475689\n",
            "For k-value of 4 the corresponding distortion value is: 51364.748070263326\n",
            "For k-value of 5 the corresponding distortion value is: 36331.63689693994\n",
            "For k-value of 6 the corresponding distortion value is: 30099.055519437814\n",
            "For k-value of 7 the corresponding distortion value is: 27000.319715203423\n"
          ]
        }
      ],
      "source": [
        "# Import the breast cancer dataset\n",
        "from sklearn.datasets import load_breast_cancer\n",
        "data = load_breast_cancer().data\n",
        "distortion_list = []\n",
        "num_samples = data.shape[0]\n",
        "\n",
        "# Function to calculate k-means distortion\n",
        "def k_means_distortion(data, assignments, cluster_c):\n",
        "    distortion = 0\n",
        "    for i in range(num_samples):\n",
        "        distortion = distortion + np.linalg.norm(data[i] - cluster_c[assignments[i]])**2\n",
        "    distortion_result = distortion/num_samples\n",
        "    return distortion_result\n",
        "\n",
        "# Go through k for 2 to 7 (included) and find distortion \n",
        "for k in range(2,8):\n",
        "    assignments, cluster_c = k_means(data, k)\n",
        "    distortion_result = k_means_distortion(data, assignments, cluster_c)\n",
        "    distortion_list.append(distortion_result)\n",
        "    print(\"For k-value of\", k, \"the corresponding distortion value is:\", distortion_result)"
      ]
    },
    {
      "cell_type": "markdown",
      "metadata": {
        "id": "cz0eTVehnbSr"
      },
      "source": [
        "Question 3"
      ]
    },
    {
      "cell_type": "code",
      "execution_count": 3,
      "metadata": {
        "colab": {
          "base_uri": "https://localhost:8080/",
          "height": 312
        },
        "id": "el7GaL-enyng",
        "outputId": "a2eebe0d-024e-4c24-c557-dce8aa142540"
      },
      "outputs": [
        {
          "ename": "ModuleNotFoundError",
          "evalue": "No module named 'matplotlib'",
          "output_type": "error",
          "traceback": [
            "\u001b[1;31m---------------------------------------------------------------------------\u001b[0m",
            "\u001b[1;31mModuleNotFoundError\u001b[0m                       Traceback (most recent call last)",
            "Cell \u001b[1;32mIn [3], line 1\u001b[0m\n\u001b[1;32m----> 1\u001b[0m \u001b[39mimport\u001b[39;00m \u001b[39mmatplotlib\u001b[39;00m\u001b[39m.\u001b[39;00m\u001b[39mpyplot\u001b[39;00m \u001b[39mas\u001b[39;00m \u001b[39mplt\u001b[39;00m\n\u001b[0;32m      2\u001b[0m k \u001b[39m=\u001b[39m np\u001b[39m.\u001b[39marange(\u001b[39m2\u001b[39m, \u001b[39m8\u001b[39m, \u001b[39m1\u001b[39m)\n\u001b[0;32m      3\u001b[0m plt\u001b[39m.\u001b[39mplot(k, distortion_list)\n",
            "\u001b[1;31mModuleNotFoundError\u001b[0m: No module named 'matplotlib'"
          ]
        }
      ],
      "source": [
        "import matplotlib.pyplot as plt\n",
        "k = np.arange(2, 8, 1)\n",
        "plt.plot(k, distortion_list)\n",
        "plt.title(\"Distortion vs k-value - Breast Cancer Dataset\")\n",
        "plt.xlabel(\"k-value\")\n",
        "plt.ylabel(\"Distortion, J\")"
      ]
    },
    {
      "cell_type": "markdown",
      "metadata": {
        "id": "74MU9FVzFl_i"
      },
      "source": [
        "Question 4"
      ]
    },
    {
      "cell_type": "code",
      "execution_count": null,
      "metadata": {
        "id": "h0C976qaFpxj"
      },
      "outputs": [],
      "source": [
        "# ----- Question 4 ------\n",
        "# I would choose k-value of 5 by inspection from the plot we have in Question 3. \n",
        "# I would choose this value because from the plot, the distortion begins to plateau after the k-value of 5.\n",
        "# There are drastic distortion value decreases from k=1 to k=5 but the decrease from k=5 to k=6 is minimal.\n",
        "# Futhermore, the decrease from k=6 to k=7 is also minimal and the following k values after 7 would have a small decrease as well.\n",
        "# Therefore, due to the distortion value reaching a plateau at k=5, I would select 5 as the k-value."
      ]
    }
  ],
  "metadata": {
    "colab": {
      "collapsed_sections": [],
      "provenance": []
    },
    "gpuClass": "standard",
    "kernelspec": {
      "display_name": "Python 3.10.7 64-bit",
      "language": "python",
      "name": "python3"
    },
    "language_info": {
      "codemirror_mode": {
        "name": "ipython",
        "version": 3
      },
      "file_extension": ".py",
      "mimetype": "text/x-python",
      "name": "python",
      "nbconvert_exporter": "python",
      "pygments_lexer": "ipython3",
      "version": "3.10.7"
    },
    "vscode": {
      "interpreter": {
        "hash": "079b45812fbf1fdca383f4532799986a721808df1b8e92fc1eb4b7db95e17e40"
      }
    }
  },
  "nbformat": 4,
  "nbformat_minor": 0
}
